{
 "cells": [
  {
   "cell_type": "code",
   "execution_count": 3,
   "metadata": {},
   "outputs": [],
   "source": [
    "import pandas as pd"
   ]
  },
  {
   "cell_type": "code",
   "execution_count": 76,
   "metadata": {},
   "outputs": [
    {
     "data": {
      "text/html": [
       "<div>\n",
       "<style scoped>\n",
       "    .dataframe tbody tr th:only-of-type {\n",
       "        vertical-align: middle;\n",
       "    }\n",
       "\n",
       "    .dataframe tbody tr th {\n",
       "        vertical-align: top;\n",
       "    }\n",
       "\n",
       "    .dataframe thead th {\n",
       "        text-align: right;\n",
       "    }\n",
       "</style>\n",
       "<table border=\"1\" class=\"dataframe\">\n",
       "  <thead>\n",
       "    <tr style=\"text-align: right;\">\n",
       "      <th></th>\n",
       "      <th>net_manager</th>\n",
       "      <th>purchase_area</th>\n",
       "      <th>street</th>\n",
       "      <th>zipcode_from</th>\n",
       "      <th>zipcode_to</th>\n",
       "      <th>city</th>\n",
       "      <th>num_connections</th>\n",
       "      <th>delivery_perc</th>\n",
       "      <th>perc_of_active_connections</th>\n",
       "      <th>type_conn_perc</th>\n",
       "      <th>type_of_connection</th>\n",
       "      <th>annual_consume</th>\n",
       "      <th>annual_consume_lowtarif_perc</th>\n",
       "      <th>smartmeter_perc</th>\n",
       "      <th>STANDAARDDEVIATIE</th>\n",
       "    </tr>\n",
       "  </thead>\n",
       "  <tbody>\n",
       "    <tr>\n",
       "      <th>0</th>\n",
       "      <td>8716874000009</td>\n",
       "      <td>Stedin Utrecht</td>\n",
       "      <td>Egelshoek</td>\n",
       "      <td>1213RC</td>\n",
       "      <td>1231AA</td>\n",
       "      <td>HILVERSUM</td>\n",
       "      <td>14</td>\n",
       "      <td>92.86</td>\n",
       "      <td>92.86</td>\n",
       "      <td>78.57</td>\n",
       "      <td>3x25</td>\n",
       "      <td>6245.43</td>\n",
       "      <td>85.71</td>\n",
       "      <td>57.14</td>\n",
       "      <td>6586,3873</td>\n",
       "    </tr>\n",
       "    <tr>\n",
       "      <th>1</th>\n",
       "      <td>8716874000009</td>\n",
       "      <td>Stedin Utrecht</td>\n",
       "      <td>Rembrandtlaan</td>\n",
       "      <td>1231AB</td>\n",
       "      <td>1231AB</td>\n",
       "      <td>LOOSDRECHT</td>\n",
       "      <td>17</td>\n",
       "      <td>76.47</td>\n",
       "      <td>100.00</td>\n",
       "      <td>82.35</td>\n",
       "      <td>3x25</td>\n",
       "      <td>5211.41</td>\n",
       "      <td>100.00</td>\n",
       "      <td>94.12</td>\n",
       "      <td>2100,0159</td>\n",
       "    </tr>\n",
       "    <tr>\n",
       "      <th>2</th>\n",
       "      <td>8716874000009</td>\n",
       "      <td>Stedin Utrecht</td>\n",
       "      <td>Rembrandtlaan</td>\n",
       "      <td>1231AC</td>\n",
       "      <td>1231AC</td>\n",
       "      <td>LOOSDRECHT</td>\n",
       "      <td>17</td>\n",
       "      <td>100.00</td>\n",
       "      <td>100.00</td>\n",
       "      <td>41.18</td>\n",
       "      <td>1x25</td>\n",
       "      <td>3236.12</td>\n",
       "      <td>100.00</td>\n",
       "      <td>88.24</td>\n",
       "      <td>1180,2710</td>\n",
       "    </tr>\n",
       "    <tr>\n",
       "      <th>3</th>\n",
       "      <td>8716874000009</td>\n",
       "      <td>Stedin Utrecht</td>\n",
       "      <td>Rembrandtlaan</td>\n",
       "      <td>1231AD</td>\n",
       "      <td>1231AD</td>\n",
       "      <td>LOOSDRECHT</td>\n",
       "      <td>17</td>\n",
       "      <td>94.12</td>\n",
       "      <td>100.00</td>\n",
       "      <td>47.06</td>\n",
       "      <td>3x25</td>\n",
       "      <td>3778.47</td>\n",
       "      <td>94.12</td>\n",
       "      <td>88.24</td>\n",
       "      <td>1294,5305</td>\n",
       "    </tr>\n",
       "    <tr>\n",
       "      <th>4</th>\n",
       "      <td>8716874000009</td>\n",
       "      <td>Stedin Utrecht</td>\n",
       "      <td>Jan Steenlaan</td>\n",
       "      <td>1231AE</td>\n",
       "      <td>1231AE</td>\n",
       "      <td>LOOSDRECHT</td>\n",
       "      <td>20</td>\n",
       "      <td>95.00</td>\n",
       "      <td>100.00</td>\n",
       "      <td>45.00</td>\n",
       "      <td>3x25</td>\n",
       "      <td>3897.70</td>\n",
       "      <td>95.00</td>\n",
       "      <td>85.00</td>\n",
       "      <td>2530,2820</td>\n",
       "    </tr>\n",
       "  </tbody>\n",
       "</table>\n",
       "</div>"
      ],
      "text/plain": [
       "     net_manager   purchase_area         street zipcode_from zipcode_to  \\\n",
       "0  8716874000009  Stedin Utrecht      Egelshoek       1213RC     1231AA   \n",
       "1  8716874000009  Stedin Utrecht  Rembrandtlaan       1231AB     1231AB   \n",
       "2  8716874000009  Stedin Utrecht  Rembrandtlaan       1231AC     1231AC   \n",
       "3  8716874000009  Stedin Utrecht  Rembrandtlaan       1231AD     1231AD   \n",
       "4  8716874000009  Stedin Utrecht  Jan Steenlaan       1231AE     1231AE   \n",
       "\n",
       "         city  num_connections  delivery_perc  perc_of_active_connections  \\\n",
       "0   HILVERSUM               14          92.86                       92.86   \n",
       "1  LOOSDRECHT               17          76.47                      100.00   \n",
       "2  LOOSDRECHT               17         100.00                      100.00   \n",
       "3  LOOSDRECHT               17          94.12                      100.00   \n",
       "4  LOOSDRECHT               20          95.00                      100.00   \n",
       "\n",
       "   type_conn_perc type_of_connection  annual_consume  \\\n",
       "0           78.57               3x25         6245.43   \n",
       "1           82.35               3x25         5211.41   \n",
       "2           41.18               1x25         3236.12   \n",
       "3           47.06               3x25         3778.47   \n",
       "4           45.00               3x25         3897.70   \n",
       "\n",
       "   annual_consume_lowtarif_perc  smartmeter_perc STANDAARDDEVIATIE  \n",
       "0                         85.71            57.14         6586,3873  \n",
       "1                        100.00            94.12         2100,0159  \n",
       "2                        100.00            88.24         1180,2710  \n",
       "3                         94.12            88.24         1294,5305  \n",
       "4                         95.00            85.00         2530,2820  "
      ]
     },
     "execution_count": 76,
     "metadata": {},
     "output_type": "execute_result"
    }
   ],
   "source": [
    "# read csv dataset from stedin\n",
    "stedin = pd.read_csv('stedin_electricity_2020.csv')\n",
    "stedin.head()"
   ]
  },
  {
   "cell_type": "code",
   "execution_count": 163,
   "metadata": {},
   "outputs": [],
   "source": [
    "stedin['net_manager'] = \"stedin BV\""
   ]
  },
  {
   "cell_type": "code",
   "execution_count": 77,
   "metadata": {},
   "outputs": [
    {
     "data": {
      "text/plain": [
       "'STANDAARDDEVIATIE'"
      ]
     },
     "execution_count": 77,
     "metadata": {},
     "output_type": "execute_result"
    }
   ],
   "source": [
    "# to delete the extra 15th column to have the same numbers of column as other datasets\n",
    "extracolumn = stedin.columns[-1]\n",
    "extracolumn"
   ]
  },
  {
   "cell_type": "code",
   "execution_count": 78,
   "metadata": {},
   "outputs": [],
   "source": [
    "stedin = stedin.drop([extracolumn], axis = 1)"
   ]
  },
  {
   "cell_type": "code",
   "execution_count": 164,
   "metadata": {},
   "outputs": [
    {
     "data": {
      "text/html": [
       "<div>\n",
       "<style scoped>\n",
       "    .dataframe tbody tr th:only-of-type {\n",
       "        vertical-align: middle;\n",
       "    }\n",
       "\n",
       "    .dataframe tbody tr th {\n",
       "        vertical-align: top;\n",
       "    }\n",
       "\n",
       "    .dataframe thead th {\n",
       "        text-align: right;\n",
       "    }\n",
       "</style>\n",
       "<table border=\"1\" class=\"dataframe\">\n",
       "  <thead>\n",
       "    <tr style=\"text-align: right;\">\n",
       "      <th></th>\n",
       "      <th>net_manager</th>\n",
       "      <th>purchase_area</th>\n",
       "      <th>street</th>\n",
       "      <th>zipcode_from</th>\n",
       "      <th>zipcode_to</th>\n",
       "      <th>city</th>\n",
       "      <th>num_connections</th>\n",
       "      <th>delivery_perc</th>\n",
       "      <th>perc_of_active_connections</th>\n",
       "      <th>type_conn_perc</th>\n",
       "      <th>type_of_connection</th>\n",
       "      <th>annual_consume</th>\n",
       "      <th>annual_consume_lowtarif_perc</th>\n",
       "      <th>smartmeter_perc</th>\n",
       "    </tr>\n",
       "  </thead>\n",
       "  <tbody>\n",
       "    <tr>\n",
       "      <th>0</th>\n",
       "      <td>stedin BV</td>\n",
       "      <td>Stedin Utrecht</td>\n",
       "      <td>Egelshoek</td>\n",
       "      <td>1213RC</td>\n",
       "      <td>1231AA</td>\n",
       "      <td>HILVERSUM</td>\n",
       "      <td>14</td>\n",
       "      <td>92.86</td>\n",
       "      <td>92.86</td>\n",
       "      <td>78.57</td>\n",
       "      <td>3x25</td>\n",
       "      <td>6245.43</td>\n",
       "      <td>85.71</td>\n",
       "      <td>57.14</td>\n",
       "    </tr>\n",
       "    <tr>\n",
       "      <th>1</th>\n",
       "      <td>stedin BV</td>\n",
       "      <td>Stedin Utrecht</td>\n",
       "      <td>Rembrandtlaan</td>\n",
       "      <td>1231AB</td>\n",
       "      <td>1231AB</td>\n",
       "      <td>LOOSDRECHT</td>\n",
       "      <td>17</td>\n",
       "      <td>76.47</td>\n",
       "      <td>100.00</td>\n",
       "      <td>82.35</td>\n",
       "      <td>3x25</td>\n",
       "      <td>5211.41</td>\n",
       "      <td>100.00</td>\n",
       "      <td>94.12</td>\n",
       "    </tr>\n",
       "  </tbody>\n",
       "</table>\n",
       "</div>"
      ],
      "text/plain": [
       "  net_manager   purchase_area         street zipcode_from zipcode_to  \\\n",
       "0   stedin BV  Stedin Utrecht      Egelshoek       1213RC     1231AA   \n",
       "1   stedin BV  Stedin Utrecht  Rembrandtlaan       1231AB     1231AB   \n",
       "\n",
       "         city  num_connections  delivery_perc  perc_of_active_connections  \\\n",
       "0   HILVERSUM               14          92.86                       92.86   \n",
       "1  LOOSDRECHT               17          76.47                      100.00   \n",
       "\n",
       "   type_conn_perc type_of_connection  annual_consume  \\\n",
       "0           78.57               3x25         6245.43   \n",
       "1           82.35               3x25         5211.41   \n",
       "\n",
       "   annual_consume_lowtarif_perc  smartmeter_perc  \n",
       "0                         85.71            57.14  \n",
       "1                        100.00            94.12  "
      ]
     },
     "execution_count": 164,
     "metadata": {},
     "output_type": "execute_result"
    }
   ],
   "source": [
    "stedin.head(2)"
   ]
  },
  {
   "cell_type": "code",
   "execution_count": 86,
   "metadata": {},
   "outputs": [
    {
     "data": {
      "text/plain": [
       "(86338, 14)"
      ]
     },
     "execution_count": 86,
     "metadata": {},
     "output_type": "execute_result"
    }
   ],
   "source": [
    "stedin.shape"
   ]
  },
  {
   "cell_type": "code",
   "execution_count": 88,
   "metadata": {},
   "outputs": [
    {
     "data": {
      "text/plain": [
       "net_manager                       int64\n",
       "purchase_area                    object\n",
       "street                           object\n",
       "zipcode_from                     object\n",
       "zipcode_to                       object\n",
       "city                             object\n",
       "num_connections                   int64\n",
       "delivery_perc                   float64\n",
       "perc_of_active_connections      float64\n",
       "type_conn_perc                  float64\n",
       "type_of_connection               object\n",
       "annual_consume                  float64\n",
       "annual_consume_lowtarif_perc    float64\n",
       "smartmeter_perc                 float64\n",
       "dtype: object"
      ]
     },
     "execution_count": 88,
     "metadata": {},
     "output_type": "execute_result"
    }
   ],
   "source": [
    "stedin.dtypes"
   ]
  },
  {
   "cell_type": "code",
   "execution_count": 95,
   "metadata": {},
   "outputs": [
    {
     "data": {
      "text/plain": [
       "False"
      ]
     },
     "execution_count": 95,
     "metadata": {},
     "output_type": "execute_result"
    }
   ],
   "source": [
    "stedin.isnull().values.any()"
   ]
  },
  {
   "cell_type": "code",
   "execution_count": 90,
   "metadata": {},
   "outputs": [
    {
     "data": {
      "text/html": [
       "<div>\n",
       "<style scoped>\n",
       "    .dataframe tbody tr th:only-of-type {\n",
       "        vertical-align: middle;\n",
       "    }\n",
       "\n",
       "    .dataframe tbody tr th {\n",
       "        vertical-align: top;\n",
       "    }\n",
       "\n",
       "    .dataframe thead th {\n",
       "        text-align: right;\n",
       "    }\n",
       "</style>\n",
       "<table border=\"1\" class=\"dataframe\">\n",
       "  <thead>\n",
       "    <tr style=\"text-align: right;\">\n",
       "      <th></th>\n",
       "      <th>net_manager</th>\n",
       "      <th>purchase_area</th>\n",
       "      <th>street</th>\n",
       "      <th>zipcode_from</th>\n",
       "      <th>zipcode_to</th>\n",
       "      <th>city</th>\n",
       "      <th>num_connections</th>\n",
       "      <th>delivery_perc</th>\n",
       "      <th>perc_of_active_connections</th>\n",
       "      <th>type_conn_perc</th>\n",
       "      <th>type_of_connection</th>\n",
       "      <th>annual_consume</th>\n",
       "      <th>annual_consume_lowtarif_perc</th>\n",
       "      <th>smartmeter_perc</th>\n",
       "    </tr>\n",
       "  </thead>\n",
       "  <tbody>\n",
       "    <tr>\n",
       "      <th>0</th>\n",
       "      <td>Liander NB</td>\n",
       "      <td>LIANDER</td>\n",
       "      <td>De Ruyterkade Steigers</td>\n",
       "      <td>1011AA</td>\n",
       "      <td>1011AB</td>\n",
       "      <td>AMSTERDAM</td>\n",
       "      <td>43.0</td>\n",
       "      <td>100.00</td>\n",
       "      <td>32.56</td>\n",
       "      <td>37.21</td>\n",
       "      <td>3x25</td>\n",
       "      <td>14940</td>\n",
       "      <td>53.49</td>\n",
       "      <td>20.93</td>\n",
       "    </tr>\n",
       "    <tr>\n",
       "      <th>1</th>\n",
       "      <td>Liander NB</td>\n",
       "      <td>LIANDER</td>\n",
       "      <td>De Ruyterkade</td>\n",
       "      <td>1011AC</td>\n",
       "      <td>1011AC</td>\n",
       "      <td>AMSTERDAM</td>\n",
       "      <td>39.0</td>\n",
       "      <td>97.44</td>\n",
       "      <td>53.85</td>\n",
       "      <td>28.21</td>\n",
       "      <td>3x25</td>\n",
       "      <td>20776</td>\n",
       "      <td>48.72</td>\n",
       "      <td>33.33</td>\n",
       "    </tr>\n",
       "  </tbody>\n",
       "</table>\n",
       "</div>"
      ],
      "text/plain": [
       "  net_manager purchase_area                  street zipcode_from zipcode_to  \\\n",
       "0  Liander NB       LIANDER  De Ruyterkade Steigers       1011AA     1011AB   \n",
       "1  Liander NB       LIANDER           De Ruyterkade       1011AC     1011AC   \n",
       "\n",
       "        city  num_connections  delivery_perc  perc_of_active_connections  \\\n",
       "0  AMSTERDAM             43.0         100.00                       32.56   \n",
       "1  AMSTERDAM             39.0          97.44                       53.85   \n",
       "\n",
       "   type_conn_perc type_of_connection  annual_consume  \\\n",
       "0           37.21               3x25           14940   \n",
       "1           28.21               3x25           20776   \n",
       "\n",
       "   annual_consume_lowtarif_perc  smartmeter_perc  \n",
       "0                         53.49            20.93  \n",
       "1                         48.72            33.33  "
      ]
     },
     "execution_count": 90,
     "metadata": {},
     "output_type": "execute_result"
    }
   ],
   "source": [
    "# read csv dataset from liander\n",
    "liander = pd.read_csv('liander_electricity_01012020.csv')\n",
    "liander.head(2)"
   ]
  },
  {
   "cell_type": "code",
   "execution_count": 91,
   "metadata": {},
   "outputs": [
    {
     "data": {
      "text/plain": [
       "(143886, 14)"
      ]
     },
     "execution_count": 91,
     "metadata": {},
     "output_type": "execute_result"
    }
   ],
   "source": [
    "liander.shape"
   ]
  },
  {
   "cell_type": "code",
   "execution_count": 92,
   "metadata": {},
   "outputs": [
    {
     "data": {
      "text/plain": [
       "net_manager                      object\n",
       "purchase_area                    object\n",
       "street                           object\n",
       "zipcode_from                     object\n",
       "zipcode_to                       object\n",
       "city                             object\n",
       "num_connections                 float64\n",
       "delivery_perc                   float64\n",
       "perc_of_active_connections      float64\n",
       "type_conn_perc                  float64\n",
       "type_of_connection               object\n",
       "annual_consume                    int64\n",
       "annual_consume_lowtarif_perc    float64\n",
       "smartmeter_perc                 float64\n",
       "dtype: object"
      ]
     },
     "execution_count": 92,
     "metadata": {},
     "output_type": "execute_result"
    }
   ],
   "source": [
    "liander.dtypes"
   ]
  },
  {
   "cell_type": "code",
   "execution_count": 96,
   "metadata": {},
   "outputs": [
    {
     "data": {
      "text/plain": [
       "False"
      ]
     },
     "execution_count": 96,
     "metadata": {},
     "output_type": "execute_result"
    }
   ],
   "source": [
    "liander.isnull().values.any()"
   ]
  },
  {
   "cell_type": "code",
   "execution_count": 89,
   "metadata": {},
   "outputs": [
    {
     "data": {
      "text/html": [
       "<div>\n",
       "<style scoped>\n",
       "    .dataframe tbody tr th:only-of-type {\n",
       "        vertical-align: middle;\n",
       "    }\n",
       "\n",
       "    .dataframe tbody tr th {\n",
       "        vertical-align: top;\n",
       "    }\n",
       "\n",
       "    .dataframe thead th {\n",
       "        text-align: right;\n",
       "    }\n",
       "</style>\n",
       "<table border=\"1\" class=\"dataframe\">\n",
       "  <thead>\n",
       "    <tr style=\"text-align: right;\">\n",
       "      <th></th>\n",
       "      <th>net_manager</th>\n",
       "      <th>purchase_area</th>\n",
       "      <th>street</th>\n",
       "      <th>zipcode_from</th>\n",
       "      <th>zipcode_to</th>\n",
       "      <th>city</th>\n",
       "      <th>num_connections</th>\n",
       "      <th>delivery_perc</th>\n",
       "      <th>perc_of_active_connections</th>\n",
       "      <th>type_conn_perc</th>\n",
       "      <th>type_of_connection</th>\n",
       "      <th>annual_consume</th>\n",
       "      <th>annual_consume_lowtarif_perc</th>\n",
       "      <th>smartmeter_perc</th>\n",
       "    </tr>\n",
       "  </thead>\n",
       "  <tbody>\n",
       "    <tr>\n",
       "      <th>0</th>\n",
       "      <td>Enexis B.V.</td>\n",
       "      <td>ENEXIS</td>\n",
       "      <td>Sasdijk</td>\n",
       "      <td>4251AA</td>\n",
       "      <td>4251AA</td>\n",
       "      <td>WERKENDAM</td>\n",
       "      <td>42</td>\n",
       "      <td>97.62</td>\n",
       "      <td>100</td>\n",
       "      <td>50.00</td>\n",
       "      <td>3x25</td>\n",
       "      <td>5524.52</td>\n",
       "      <td>28.41</td>\n",
       "      <td>11.90</td>\n",
       "    </tr>\n",
       "    <tr>\n",
       "      <th>1</th>\n",
       "      <td>Enexis B.V.</td>\n",
       "      <td>ENEXIS</td>\n",
       "      <td>Sasdijk</td>\n",
       "      <td>4251AB</td>\n",
       "      <td>4251AB</td>\n",
       "      <td>WERKENDAM</td>\n",
       "      <td>17</td>\n",
       "      <td>94.12</td>\n",
       "      <td>100</td>\n",
       "      <td>41.18</td>\n",
       "      <td>1x25</td>\n",
       "      <td>4022.88</td>\n",
       "      <td>35.36</td>\n",
       "      <td>47.06</td>\n",
       "    </tr>\n",
       "  </tbody>\n",
       "</table>\n",
       "</div>"
      ],
      "text/plain": [
       "   net_manager purchase_area   street zipcode_from zipcode_to       city  \\\n",
       "0  Enexis B.V.        ENEXIS  Sasdijk       4251AA     4251AA  WERKENDAM   \n",
       "1  Enexis B.V.        ENEXIS  Sasdijk       4251AB     4251AB  WERKENDAM   \n",
       "\n",
       "   num_connections  delivery_perc  perc_of_active_connections  type_conn_perc  \\\n",
       "0               42          97.62                         100           50.00   \n",
       "1               17          94.12                         100           41.18   \n",
       "\n",
       "  type_of_connection  annual_consume  annual_consume_lowtarif_perc  \\\n",
       "0               3x25         5524.52                         28.41   \n",
       "1               1x25         4022.88                         35.36   \n",
       "\n",
       "   smartmeter_perc  \n",
       "0            11.90  \n",
       "1            47.06  "
      ]
     },
     "execution_count": 89,
     "metadata": {},
     "output_type": "execute_result"
    }
   ],
   "source": [
    "# read csv dataset from enexis\n",
    "enexis = pd.read_csv('enexis_electricity_01012020.csv')\n",
    "enexis.head(2)"
   ]
  },
  {
   "cell_type": "code",
   "execution_count": 102,
   "metadata": {},
   "outputs": [
    {
     "data": {
      "text/plain": [
       "(124877, 14)"
      ]
     },
     "execution_count": 102,
     "metadata": {},
     "output_type": "execute_result"
    }
   ],
   "source": [
    "enexis.shape"
   ]
  },
  {
   "cell_type": "code",
   "execution_count": 94,
   "metadata": {},
   "outputs": [
    {
     "data": {
      "text/plain": [
       "net_manager                      object\n",
       "purchase_area                    object\n",
       "street                           object\n",
       "zipcode_from                     object\n",
       "zipcode_to                       object\n",
       "city                             object\n",
       "num_connections                   int64\n",
       "delivery_perc                   float64\n",
       "perc_of_active_connections        int64\n",
       "type_conn_perc                  float64\n",
       "type_of_connection               object\n",
       "annual_consume                  float64\n",
       "annual_consume_lowtarif_perc    float64\n",
       "smartmeter_perc                 float64\n",
       "dtype: object"
      ]
     },
     "execution_count": 94,
     "metadata": {},
     "output_type": "execute_result"
    }
   ],
   "source": [
    "enexis.dtypes"
   ]
  },
  {
   "cell_type": "code",
   "execution_count": 97,
   "metadata": {},
   "outputs": [
    {
     "data": {
      "text/plain": [
       "False"
      ]
     },
     "execution_count": 97,
     "metadata": {},
     "output_type": "execute_result"
    }
   ],
   "source": [
    "enexis.isnull().values.any()"
   ]
  },
  {
   "cell_type": "code",
   "execution_count": 165,
   "metadata": {},
   "outputs": [
    {
     "data": {
      "text/plain": [
       "(355101, 14)"
      ]
     },
     "execution_count": 165,
     "metadata": {},
     "output_type": "execute_result"
    }
   ],
   "source": [
    "# append datasets into 1 dataset\n",
    "mergedf = pd.concat([stedin,liander,enexis]) \n",
    "mergedf.shape"
   ]
  },
  {
   "cell_type": "code",
   "execution_count": 115,
   "metadata": {},
   "outputs": [
    {
     "data": {
      "text/plain": [
       "54131139.0"
      ]
     },
     "execution_count": 115,
     "metadata": {},
     "output_type": "execute_result"
    }
   ],
   "source": [
    "# Question 1: How much electricity has Amsterdam consumed in 2020?\n",
    "amsterdam_electricity = mergedf.loc[mergedf.city == 'AMSTERDAM']\n",
    "amsterdam_annual_electricity = amsterdam_electricity.annual_consume.sum()\n",
    "amsterdam_annual_electricity "
   ]
  },
  {
   "cell_type": "code",
   "execution_count": 175,
   "metadata": {},
   "outputs": [
    {
     "data": {
      "text/plain": [
       "city\n",
       "'S GRAVENMOER       206759.30\n",
       "'S-GRAVELAND        200493.00\n",
       "'S-GRAVENDEEL       669984.31\n",
       "'S-GRAVENHAGE     38925186.62\n",
       "'S-HEERENBERG       899546.00\n",
       "                     ...     \n",
       "ZWIJNDRECHT        2603798.47\n",
       "ZWINDEREN            72324.23\n",
       "ZWOLLE            10194440.08\n",
       "Zwaagdijk-Oost        5512.00\n",
       "loo                   4724.00\n",
       "Name: annual_consume, Length: 2388, dtype: float64"
      ]
     },
     "execution_count": 175,
     "metadata": {},
     "output_type": "execute_result"
    }
   ],
   "source": [
    "# Question 2: Which city has consumed the most electricity in 2020?\n",
    "cities_annual_electricity = mergedf.groupby(\"city\")[\"annual_consume\"].sum()\n",
    "cities_annual_electricity"
   ]
  },
  {
   "cell_type": "code",
   "execution_count": 176,
   "metadata": {
    "scrolled": true
   },
   "outputs": [
    {
     "data": {
      "text/plain": [
       "city\n",
       "AMSTERDAM             54131139.00\n",
       "'S-GRAVENHAGE         38925186.62\n",
       "ROTTERDAM             36849610.36\n",
       "UTRECHT               22417999.89\n",
       "ALMERE                17405634.00\n",
       "                         ...     \n",
       "AMSTEVEEN                 2322.00\n",
       "OUDEZIJL                  2220.80\n",
       "NIEUWGEIN                 1598.40\n",
       "NIEUWERBRUG               1545.50\n",
       "AMSTERDAM ZUID00ST        1533.00\n",
       "Name: annual_consume, Length: 2388, dtype: float64"
      ]
     },
     "execution_count": 176,
     "metadata": {},
     "output_type": "execute_result"
    }
   ],
   "source": [
    "cities_annual_electricity_sorted = cities_annual_electricity.sort_values(ascending=False)\n",
    "cities_annual_electricity_sorted "
   ]
  },
  {
   "cell_type": "code",
   "execution_count": 177,
   "metadata": {
    "scrolled": true
   },
   "outputs": [
    {
     "data": {
      "image/png": "[encoded data removed]",
      "text/plain": [
       "<Figure size 432x288 with 1 Axes>"
      ]
     },
     "metadata": {
      "needs_background": "light"
     },
     "output_type": "display_data"
    }
   ],
   "source": [
    "# showing top 10 cities in bar plot\n",
    "cities_annual_electricity_sorted[0:10]\n",
    "cities_annual_electricity_sorted_plot = cities_annual_electricity_sorted[0:10].plot.bar()"
   ]
  },
  {
   "cell_type": "code",
   "execution_count": 178,
   "metadata": {},
   "outputs": [
    {
     "data": {
      "text/plain": [
       "city\n",
       "'S GRAVENMOER       2424.32\n",
       "'S-GRAVELAND        2773.49\n",
       "'S-GRAVENDEEL      17575.91\n",
       "'S-GRAVENHAGE     919304.34\n",
       "'S-HEERENBERG      17237.69\n",
       "                    ...    \n",
       "ZWIJNDRECHT        70514.70\n",
       "ZWINDEREN            477.51\n",
       "ZWOLLE            130143.68\n",
       "Zwaagdijk-Oost        68.75\n",
       "loo                   84.62\n",
       "Name: annual_consume_lowtarif_perc, Length: 2388, dtype: float64"
      ]
     },
     "execution_count": 178,
     "metadata": {},
     "output_type": "execute_result"
    }
   ],
   "source": [
    "# Question 3: People in which city are more likely to consume electricty during low tariff hours?\n",
    "# (low tariff hours: from 10 p.m. to 7 a.m. and during weekends) \n",
    "cities_annual_consume_lowtarif_perc = mergedf.groupby(\"city\")[\"annual_consume_lowtarif_perc\"].sum()\n",
    "cities_annual_consume_lowtarif_perc"
   ]
  },
  {
   "cell_type": "code",
   "execution_count": 179,
   "metadata": {
    "scrolled": false
   },
   "outputs": [
    {
     "data": {
      "text/plain": [
       "city\n",
       "AMSTERDAM             1125410.91\n",
       "ROTTERDAM              985985.20\n",
       "'S-GRAVENHAGE          919304.34\n",
       "UTRECHT                510218.97\n",
       "ALMERE                 386185.17\n",
       "                         ...    \n",
       "CULEMBURG                  40.74\n",
       "LANGEDIJK                  40.00\n",
       "OUDEZIJL                   35.98\n",
       "HAARLEM 1786136            25.00\n",
       "AMSTERDAM ZUID00ST          5.88\n",
       "Name: annual_consume_lowtarif_perc, Length: 2388, dtype: float64"
      ]
     },
     "execution_count": 179,
     "metadata": {},
     "output_type": "execute_result"
    }
   ],
   "source": [
    "cities_annual_consume_lowtarif_perc_sorted = cities_annual_consume_lowtarif_perc.sort_values(ascending=False)\n",
    "cities_annual_consume_lowtarif_perc_sorted"
   ]
  },
  {
   "cell_type": "code",
   "execution_count": 148,
   "metadata": {},
   "outputs": [
    {
     "data": {
      "text/plain": [
       "net_manager                      object\n",
       "purchase_area                    object\n",
       "street                           object\n",
       "zipcode_from                     object\n",
       "zipcode_to                       object\n",
       "city                             object\n",
       "num_connections                 float64\n",
       "delivery_perc                   float64\n",
       "perc_of_active_connections      float64\n",
       "type_conn_perc                  float64\n",
       "type_of_connection               object\n",
       "annual_consume                  float64\n",
       "annual_consume_lowtarif_perc    float64\n",
       "smartmeter_perc                 float64\n",
       "dtype: object"
      ]
     },
     "execution_count": 148,
     "metadata": {},
     "output_type": "execute_result"
    }
   ],
   "source": [
    "# Question 4:Which company has offered the most net energy consumtion? \n",
    "# (net energy consumption = Consumption_per_year x delivery_percentage_per_year)\n",
    "mergedf.dtypes"
   ]
  },
  {
   "cell_type": "code",
   "execution_count": 185,
   "metadata": {},
   "outputs": [
    {
     "data": {
      "text/plain": [
       "0          92.86\n",
       "1          76.47\n",
       "2         100.00\n",
       "3          94.12\n",
       "4          95.00\n",
       "           ...  \n",
       "124872     76.19\n",
       "124873     60.00\n",
       "124874      8.33\n",
       "124875     50.00\n",
       "124876     57.14\n",
       "Name: delivery_perc, Length: 355101, dtype: float64"
      ]
     },
     "execution_count": 185,
     "metadata": {},
     "output_type": "execute_result"
    }
   ],
   "source": [
    "mergedf[\"delivery_perc\"]"
   ]
  },
  {
   "cell_type": "code",
   "execution_count": 186,
   "metadata": {},
   "outputs": [
    {
     "data": {
      "text/html": [
       "<div>\n",
       "<style scoped>\n",
       "    .dataframe tbody tr th:only-of-type {\n",
       "        vertical-align: middle;\n",
       "    }\n",
       "\n",
       "    .dataframe tbody tr th {\n",
       "        vertical-align: top;\n",
       "    }\n",
       "\n",
       "    .dataframe thead th {\n",
       "        text-align: right;\n",
       "    }\n",
       "</style>\n",
       "<table border=\"1\" class=\"dataframe\">\n",
       "  <thead>\n",
       "    <tr style=\"text-align: right;\">\n",
       "      <th></th>\n",
       "      <th>net_manager</th>\n",
       "      <th>purchase_area</th>\n",
       "      <th>street</th>\n",
       "      <th>zipcode_from</th>\n",
       "      <th>zipcode_to</th>\n",
       "      <th>city</th>\n",
       "      <th>num_connections</th>\n",
       "      <th>delivery_perc</th>\n",
       "      <th>perc_of_active_connections</th>\n",
       "      <th>type_conn_perc</th>\n",
       "      <th>type_of_connection</th>\n",
       "      <th>annual_consume</th>\n",
       "      <th>annual_consume_lowtarif_perc</th>\n",
       "      <th>smartmeter_perc</th>\n",
       "      <th>annual_net_consume</th>\n",
       "    </tr>\n",
       "  </thead>\n",
       "  <tbody>\n",
       "    <tr>\n",
       "      <th>0</th>\n",
       "      <td>stedin BV</td>\n",
       "      <td>Stedin Utrecht</td>\n",
       "      <td>Egelshoek</td>\n",
       "      <td>1213RC</td>\n",
       "      <td>1231AA</td>\n",
       "      <td>HILVERSUM</td>\n",
       "      <td>14.0</td>\n",
       "      <td>92.86</td>\n",
       "      <td>92.86</td>\n",
       "      <td>78.57</td>\n",
       "      <td>3x25</td>\n",
       "      <td>6245.43</td>\n",
       "      <td>85.71</td>\n",
       "      <td>57.14</td>\n",
       "      <td>5799.506298</td>\n",
       "    </tr>\n",
       "  </tbody>\n",
       "</table>\n",
       "</div>"
      ],
      "text/plain": [
       "  net_manager   purchase_area     street zipcode_from zipcode_to       city  \\\n",
       "0   stedin BV  Stedin Utrecht  Egelshoek       1213RC     1231AA  HILVERSUM   \n",
       "\n",
       "   num_connections  delivery_perc  perc_of_active_connections  type_conn_perc  \\\n",
       "0             14.0          92.86                       92.86           78.57   \n",
       "\n",
       "  type_of_connection  annual_consume  annual_consume_lowtarif_perc  \\\n",
       "0               3x25         6245.43                         85.71   \n",
       "\n",
       "   smartmeter_perc  annual_net_consume  \n",
       "0            57.14         5799.506298  "
      ]
     },
     "execution_count": 186,
     "metadata": {},
     "output_type": "execute_result"
    }
   ],
   "source": [
    "mergedf['annual_net_consume'] = mergedf[\"annual_consume\"] * mergedf[\"delivery_perc\"] / 100\n",
    "mergedf.head(1) "
   ]
  },
  {
   "cell_type": "code",
   "execution_count": 187,
   "metadata": {},
   "outputs": [
    {
     "data": {
      "text/plain": [
       "net_manager\n",
       "Liander NB     5.231794e+08\n",
       "Enexis B.V.    4.612555e+08\n",
       "stedin BV      2.991804e+08\n",
       "Name: annual_net_consume, dtype: float64"
      ]
     },
     "execution_count": 187,
     "metadata": {},
     "output_type": "execute_result"
    }
   ],
   "source": [
    "companies_annual_net_consume = mergedf.groupby(\"net_manager\")[\"annual_net_consume\"].sum()\n",
    "companies_annual_net_consume.sort_values(ascending=False)"
   ]
  },
  {
   "cell_type": "code",
   "execution_count": 280,
   "metadata": {},
   "outputs": [],
   "source": [
    "# Question 5: How many % of electricity being consumed by the top 5 cities, compared to the whole Netherlands? \n",
    "nl_annual_electricity = cities_annual_electricity.sum()"
   ]
  },
  {
   "cell_type": "code",
   "execution_count": 281,
   "metadata": {},
   "outputs": [
    {
     "data": {
      "text/plain": [
       "1470619328.8899999"
      ]
     },
     "execution_count": 281,
     "metadata": {},
     "output_type": "execute_result"
    }
   ],
   "source": [
    "nl_annual_electricity"
   ]
  },
  {
   "cell_type": "code",
   "execution_count": 282,
   "metadata": {},
   "outputs": [
    {
     "data": {
      "text/plain": [
       "city\n",
       "AMSTERDAM        3.68\n",
       "'S-GRAVENHAGE    2.65\n",
       "ROTTERDAM        2.51\n",
       "UTRECHT          1.52\n",
       "ALMERE           1.18\n",
       "Name: annual_consume, dtype: float64"
      ]
     },
     "execution_count": 282,
     "metadata": {},
     "output_type": "execute_result"
    }
   ],
   "source": [
    "top5cities_percentage_annual_electricity = cities_annual_electricity_sorted[0:5] / nl_annual_electricity * 100\n",
    "round(top5cities_percentage_annual_electricity,2) "
   ]
  },
  {
   "cell_type": "code",
   "execution_count": 283,
   "metadata": {},
   "outputs": [],
   "source": [
    "top5cities_percentage_annual_electricity['OTHER CITIES'] = 100-top5cities_percentage_annual_electricity.sum()"
   ]
  },
  {
   "cell_type": "code",
   "execution_count": 284,
   "metadata": {},
   "outputs": [
    {
     "data": {
      "text/plain": [
       "city\n",
       "AMSTERDAM         3.680840\n",
       "'S-GRAVENHAGE     2.646857\n",
       "ROTTERDAM         2.505721\n",
       "UTRECHT           1.524392\n",
       "ALMERE            1.183558\n",
       "OTHER CITIES     88.458633\n",
       "Name: annual_consume, dtype: float64"
      ]
     },
     "execution_count": 284,
     "metadata": {},
     "output_type": "execute_result"
    }
   ],
   "source": [
    "top5cities_percentage_annual_electricity"
   ]
  },
  {
   "cell_type": "code",
   "execution_count": 289,
   "metadata": {},
   "outputs": [
    {
     "data": {
      "image/png": "[encoded data removed]",
      "text/plain": [
       "<Figure size 432x288 with 1 Axes>"
      ]
     },
     "metadata": {},
     "output_type": "display_data"
    }
   ],
   "source": [
    "import matplotlib\n",
    "top5cities_percentage_annual_electricity_pie = top5cities_percentage_annual_electricity.plot.pie()"
   ]
  }
 ],
 "metadata": {
  "kernelspec": {
   "display_name": "Python 3",
   "language": "python",
   "name": "python3"
  },
  "language_info": {
   "codemirror_mode": {
    "name": "ipython",
    "version": 3
   },
   "file_extension": ".py",
   "mimetype": "text/x-python",
   "name": "python",
   "nbconvert_exporter": "python",
   "pygments_lexer": "ipython3",
   "version": "3.7.6"
  }
 },
 "nbformat": 4,
 "nbformat_minor": 4
}
